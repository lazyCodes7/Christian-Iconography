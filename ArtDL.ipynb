{
  "cells": [
    {
      "cell_type": "code",
      "execution_count": 1,
      "metadata": {
        "colab": {
          "base_uri": "https://localhost:8080/"
        },
        "id": "7g79FpFN1BVi",
        "outputId": "d54f8ec0-2ff8-487e-b0ee-7eafaf85e3ac"
      },
      "outputs": [
        {
          "output_type": "stream",
          "name": "stdout",
          "text": [
            "Requirement already satisfied: gdown in /usr/local/lib/python3.7/dist-packages (3.6.4)\n",
            "Requirement already satisfied: six in /usr/local/lib/python3.7/dist-packages (from gdown) (1.15.0)\n",
            "Requirement already satisfied: requests in /usr/local/lib/python3.7/dist-packages (from gdown) (2.23.0)\n",
            "Requirement already satisfied: tqdm in /usr/local/lib/python3.7/dist-packages (from gdown) (4.62.3)\n",
            "Requirement already satisfied: certifi>=2017.4.17 in /usr/local/lib/python3.7/dist-packages (from requests->gdown) (2021.10.8)\n",
            "Requirement already satisfied: urllib3!=1.25.0,!=1.25.1,<1.26,>=1.21.1 in /usr/local/lib/python3.7/dist-packages (from requests->gdown) (1.24.3)\n",
            "Requirement already satisfied: chardet<4,>=3.0.2 in /usr/local/lib/python3.7/dist-packages (from requests->gdown) (3.0.4)\n",
            "Requirement already satisfied: idna<3,>=2.5 in /usr/local/lib/python3.7/dist-packages (from requests->gdown) (2.10)\n"
          ]
        }
      ],
      "source": [
        "!pip install gdown"
      ]
    },
    {
      "cell_type": "code",
      "execution_count": 2,
      "metadata": {
        "id": "b8sutuHu4kAu"
      },
      "outputs": [],
      "source": [
        "import pandas as pd\n",
        "import numpy as np\n",
        "import matplotlib.pyplot as plt\n",
        "from torch.utils.data import DataLoader, Dataset, WeightedRandomSampler\n",
        "import torch.nn.functional as F\n",
        "import torchvision.transforms.functional as FT"
      ]
    },
    {
      "cell_type": "code",
      "execution_count": 3,
      "metadata": {
        "colab": {
          "base_uri": "https://localhost:8080/",
          "height": 104
        },
        "id": "K3WmupYK1CeT",
        "outputId": "792bb519-8787-4487-f377-2187ce71faea"
      },
      "outputs": [
        {
          "output_type": "stream",
          "name": "stderr",
          "text": [
            "Downloading...\n",
            "From: https://drive.google.com/uc?id=16FK1YnHPhGqCHf_EpovzcH0v90yXcCer\n",
            "To: /content/artDL.zip\n",
            "100%|██████████| 3.62G/3.62G [00:58<00:00, 61.6MB/s]\n"
          ]
        },
        {
          "output_type": "execute_result",
          "data": {
            "application/vnd.google.colaboratory.intrinsic+json": {
              "type": "string"
            },
            "text/plain": [
              "'artDL.zip'"
            ]
          },
          "metadata": {},
          "execution_count": 3
        }
      ],
      "source": [
        "## Import from drive\n",
        "import gdown\n",
        "\n",
        "url = \"https://drive.google.com/uc?id=16FK1YnHPhGqCHf_EpovzcH0v90yXcCer\"\n",
        "\n",
        "output = 'artDL.zip'\n",
        "\n",
        "gdown.download(url, output, quiet=False)"
      ]
    },
    {
      "cell_type": "code",
      "execution_count": 4,
      "metadata": {
        "id": "mlUmvdj7Boca"
      },
      "outputs": [],
      "source": [
        "!unzip -q /content/artDL.zip"
      ]
    },
    {
      "cell_type": "code",
      "execution_count": 9,
      "metadata": {
        "id": "m_dnPQvb4gd0"
      },
      "outputs": [],
      "source": [
        "info_df = pd.read_csv('/content/DEVKitArt/info.csv')"
      ]
    },
    {
      "cell_type": "code",
      "source": [
        ""
      ],
      "metadata": {
        "id": "WCUHSDaIBovz"
      },
      "execution_count": null,
      "outputs": []
    },
    {
      "cell_type": "code",
      "execution_count": 10,
      "metadata": {
        "id": "0hhHRvbh8GGl"
      },
      "outputs": [],
      "source": [
        "train_set, test_set, val_set = info_df[info_df['set'] == 'train'], info_df[info_df['set'] == 'val'], info_df[info_df['set'] == 'test']"
      ]
    },
    {
      "cell_type": "code",
      "execution_count": null,
      "metadata": {
        "colab": {
          "base_uri": "https://localhost:8080/",
          "height": 609
        },
        "id": "INwz2qCO9d7E",
        "outputId": "19ce7206-fd75-47c5-b3ea-2f10978eec4c"
      },
      "outputs": [
        {
          "output_type": "execute_result",
          "data": {
            "text/html": [
              "\n",
              "  <div id=\"df-083c4a5e-4be3-43c0-a908-fed64d7a5e92\">\n",
              "    <div class=\"colab-df-container\">\n",
              "      <div>\n",
              "<style scoped>\n",
              "    .dataframe tbody tr th:only-of-type {\n",
              "        vertical-align: middle;\n",
              "    }\n",
              "\n",
              "    .dataframe tbody tr th {\n",
              "        vertical-align: top;\n",
              "    }\n",
              "\n",
              "    .dataframe thead th {\n",
              "        text-align: right;\n",
              "    }\n",
              "</style>\n",
              "<table border=\"1\" class=\"dataframe\">\n",
              "  <thead>\n",
              "    <tr style=\"text-align: right;\">\n",
              "      <th></th>\n",
              "      <th>item</th>\n",
              "      <th>11F(MARY)</th>\n",
              "      <th>11H(ANTONY ABBOT)</th>\n",
              "      <th>11H(ANTONY OF PADUA)</th>\n",
              "      <th>11H(AUGUSTINE)</th>\n",
              "      <th>11H(DOMINIC)</th>\n",
              "      <th>11H(FRANCIS)</th>\n",
              "      <th>11H(JEROME)</th>\n",
              "      <th>11H(JOHN THE BAPTIST)</th>\n",
              "      <th>11H(JOHN)</th>\n",
              "      <th>11H(JOSEPH)</th>\n",
              "      <th>11H(PAUL)</th>\n",
              "      <th>11H(PETER)</th>\n",
              "      <th>11H(SEBASTIAN)</th>\n",
              "      <th>11H(STEPHEN)</th>\n",
              "      <th>11HH(BARBARA)</th>\n",
              "      <th>11HH(CATHERINE)</th>\n",
              "      <th>11HH(MARY MAGDALENE)</th>\n",
              "      <th>John Baptist - Child</th>\n",
              "      <th>John Baptist - Dead</th>\n",
              "      <th>set</th>\n",
              "    </tr>\n",
              "  </thead>\n",
              "  <tbody>\n",
              "    <tr>\n",
              "      <th>1</th>\n",
              "      <td>0007c0a4-31fe-4a8c-b23f-ee79528c96cb_970b7762-...</td>\n",
              "      <td>0</td>\n",
              "      <td>0</td>\n",
              "      <td>0</td>\n",
              "      <td>0</td>\n",
              "      <td>0</td>\n",
              "      <td>0</td>\n",
              "      <td>0</td>\n",
              "      <td>0</td>\n",
              "      <td>0</td>\n",
              "      <td>0</td>\n",
              "      <td>0</td>\n",
              "      <td>0</td>\n",
              "      <td>0</td>\n",
              "      <td>0</td>\n",
              "      <td>0</td>\n",
              "      <td>0</td>\n",
              "      <td>0</td>\n",
              "      <td>0</td>\n",
              "      <td>0</td>\n",
              "      <td>val</td>\n",
              "    </tr>\n",
              "    <tr>\n",
              "      <th>18</th>\n",
              "      <td>032ed98d-94e2-4c4c-9d1e-b775d2bf0610_7e3988c4-...</td>\n",
              "      <td>0</td>\n",
              "      <td>0</td>\n",
              "      <td>0</td>\n",
              "      <td>0</td>\n",
              "      <td>0</td>\n",
              "      <td>0</td>\n",
              "      <td>0</td>\n",
              "      <td>0</td>\n",
              "      <td>0</td>\n",
              "      <td>0</td>\n",
              "      <td>0</td>\n",
              "      <td>0</td>\n",
              "      <td>0</td>\n",
              "      <td>0</td>\n",
              "      <td>0</td>\n",
              "      <td>0</td>\n",
              "      <td>0</td>\n",
              "      <td>0</td>\n",
              "      <td>0</td>\n",
              "      <td>val</td>\n",
              "    </tr>\n",
              "    <tr>\n",
              "      <th>33</th>\n",
              "      <td>0806d39a-48fb-4d78-9761-178a1b235636_642b6845-...</td>\n",
              "      <td>0</td>\n",
              "      <td>0</td>\n",
              "      <td>0</td>\n",
              "      <td>0</td>\n",
              "      <td>0</td>\n",
              "      <td>0</td>\n",
              "      <td>0</td>\n",
              "      <td>0</td>\n",
              "      <td>0</td>\n",
              "      <td>0</td>\n",
              "      <td>0</td>\n",
              "      <td>0</td>\n",
              "      <td>0</td>\n",
              "      <td>0</td>\n",
              "      <td>0</td>\n",
              "      <td>0</td>\n",
              "      <td>0</td>\n",
              "      <td>0</td>\n",
              "      <td>0</td>\n",
              "      <td>val</td>\n",
              "    </tr>\n",
              "    <tr>\n",
              "      <th>43</th>\n",
              "      <td>093cbda0-b9c4-445e-b6d3-56c423811f46_2e06bb9c-...</td>\n",
              "      <td>0</td>\n",
              "      <td>0</td>\n",
              "      <td>0</td>\n",
              "      <td>0</td>\n",
              "      <td>0</td>\n",
              "      <td>0</td>\n",
              "      <td>0</td>\n",
              "      <td>0</td>\n",
              "      <td>0</td>\n",
              "      <td>0</td>\n",
              "      <td>0</td>\n",
              "      <td>0</td>\n",
              "      <td>0</td>\n",
              "      <td>0</td>\n",
              "      <td>0</td>\n",
              "      <td>0</td>\n",
              "      <td>0</td>\n",
              "      <td>0</td>\n",
              "      <td>0</td>\n",
              "      <td>val</td>\n",
              "    </tr>\n",
              "    <tr>\n",
              "      <th>60</th>\n",
              "      <td>0e47ce9f-8af5-4f28-8016-4228189e1a3a_44573a91-...</td>\n",
              "      <td>0</td>\n",
              "      <td>0</td>\n",
              "      <td>0</td>\n",
              "      <td>0</td>\n",
              "      <td>0</td>\n",
              "      <td>0</td>\n",
              "      <td>0</td>\n",
              "      <td>0</td>\n",
              "      <td>0</td>\n",
              "      <td>0</td>\n",
              "      <td>0</td>\n",
              "      <td>0</td>\n",
              "      <td>0</td>\n",
              "      <td>0</td>\n",
              "      <td>0</td>\n",
              "      <td>0</td>\n",
              "      <td>0</td>\n",
              "      <td>0</td>\n",
              "      <td>0</td>\n",
              "      <td>val</td>\n",
              "    </tr>\n",
              "    <tr>\n",
              "      <th>...</th>\n",
              "      <td>...</td>\n",
              "      <td>...</td>\n",
              "      <td>...</td>\n",
              "      <td>...</td>\n",
              "      <td>...</td>\n",
              "      <td>...</td>\n",
              "      <td>...</td>\n",
              "      <td>...</td>\n",
              "      <td>...</td>\n",
              "      <td>...</td>\n",
              "      <td>...</td>\n",
              "      <td>...</td>\n",
              "      <td>...</td>\n",
              "      <td>...</td>\n",
              "      <td>...</td>\n",
              "      <td>...</td>\n",
              "      <td>...</td>\n",
              "      <td>...</td>\n",
              "      <td>...</td>\n",
              "      <td>...</td>\n",
              "      <td>...</td>\n",
              "    </tr>\n",
              "    <tr>\n",
              "      <th>42141</th>\n",
              "      <td>tiziano_06_1560s_09magdal</td>\n",
              "      <td>0</td>\n",
              "      <td>0</td>\n",
              "      <td>0</td>\n",
              "      <td>0</td>\n",
              "      <td>0</td>\n",
              "      <td>0</td>\n",
              "      <td>0</td>\n",
              "      <td>0</td>\n",
              "      <td>0</td>\n",
              "      <td>0</td>\n",
              "      <td>0</td>\n",
              "      <td>0</td>\n",
              "      <td>0</td>\n",
              "      <td>0</td>\n",
              "      <td>0</td>\n",
              "      <td>0</td>\n",
              "      <td>1</td>\n",
              "      <td>0</td>\n",
              "      <td>0</td>\n",
              "      <td>val</td>\n",
              "    </tr>\n",
              "    <tr>\n",
              "      <th>42224</th>\n",
              "      <td>vaccar_martyrd2</td>\n",
              "      <td>0</td>\n",
              "      <td>0</td>\n",
              "      <td>0</td>\n",
              "      <td>0</td>\n",
              "      <td>0</td>\n",
              "      <td>0</td>\n",
              "      <td>0</td>\n",
              "      <td>0</td>\n",
              "      <td>0</td>\n",
              "      <td>0</td>\n",
              "      <td>0</td>\n",
              "      <td>0</td>\n",
              "      <td>0</td>\n",
              "      <td>1</td>\n",
              "      <td>0</td>\n",
              "      <td>0</td>\n",
              "      <td>0</td>\n",
              "      <td>0</td>\n",
              "      <td>0</td>\n",
              "      <td>val</td>\n",
              "    </tr>\n",
              "    <tr>\n",
              "      <th>42325</th>\n",
              "      <td>viola_magdalen</td>\n",
              "      <td>0</td>\n",
              "      <td>0</td>\n",
              "      <td>0</td>\n",
              "      <td>0</td>\n",
              "      <td>0</td>\n",
              "      <td>0</td>\n",
              "      <td>0</td>\n",
              "      <td>0</td>\n",
              "      <td>0</td>\n",
              "      <td>0</td>\n",
              "      <td>0</td>\n",
              "      <td>0</td>\n",
              "      <td>0</td>\n",
              "      <td>0</td>\n",
              "      <td>0</td>\n",
              "      <td>0</td>\n",
              "      <td>1</td>\n",
              "      <td>0</td>\n",
              "      <td>0</td>\n",
              "      <td>val</td>\n",
              "    </tr>\n",
              "    <tr>\n",
              "      <th>42337</th>\n",
              "      <td>vivarini_alvise_mary_mag</td>\n",
              "      <td>0</td>\n",
              "      <td>0</td>\n",
              "      <td>0</td>\n",
              "      <td>0</td>\n",
              "      <td>0</td>\n",
              "      <td>0</td>\n",
              "      <td>0</td>\n",
              "      <td>0</td>\n",
              "      <td>0</td>\n",
              "      <td>0</td>\n",
              "      <td>0</td>\n",
              "      <td>0</td>\n",
              "      <td>0</td>\n",
              "      <td>0</td>\n",
              "      <td>0</td>\n",
              "      <td>0</td>\n",
              "      <td>1</td>\n",
              "      <td>0</td>\n",
              "      <td>0</td>\n",
              "      <td>val</td>\n",
              "    </tr>\n",
              "    <tr>\n",
              "      <th>42412</th>\n",
              "      <td>weyden_rogier_18fracop_1magdale</td>\n",
              "      <td>0</td>\n",
              "      <td>0</td>\n",
              "      <td>0</td>\n",
              "      <td>0</td>\n",
              "      <td>0</td>\n",
              "      <td>0</td>\n",
              "      <td>0</td>\n",
              "      <td>0</td>\n",
              "      <td>0</td>\n",
              "      <td>0</td>\n",
              "      <td>0</td>\n",
              "      <td>0</td>\n",
              "      <td>0</td>\n",
              "      <td>0</td>\n",
              "      <td>0</td>\n",
              "      <td>0</td>\n",
              "      <td>1</td>\n",
              "      <td>0</td>\n",
              "      <td>0</td>\n",
              "      <td>val</td>\n",
              "    </tr>\n",
              "  </tbody>\n",
              "</table>\n",
              "<p>4156 rows × 21 columns</p>\n",
              "</div>\n",
              "      <button class=\"colab-df-convert\" onclick=\"convertToInteractive('df-083c4a5e-4be3-43c0-a908-fed64d7a5e92')\"\n",
              "              title=\"Convert this dataframe to an interactive table.\"\n",
              "              style=\"display:none;\">\n",
              "        \n",
              "  <svg xmlns=\"http://www.w3.org/2000/svg\" height=\"24px\"viewBox=\"0 0 24 24\"\n",
              "       width=\"24px\">\n",
              "    <path d=\"M0 0h24v24H0V0z\" fill=\"none\"/>\n",
              "    <path d=\"M18.56 5.44l.94 2.06.94-2.06 2.06-.94-2.06-.94-.94-2.06-.94 2.06-2.06.94zm-11 1L8.5 8.5l.94-2.06 2.06-.94-2.06-.94L8.5 2.5l-.94 2.06-2.06.94zm10 10l.94 2.06.94-2.06 2.06-.94-2.06-.94-.94-2.06-.94 2.06-2.06.94z\"/><path d=\"M17.41 7.96l-1.37-1.37c-.4-.4-.92-.59-1.43-.59-.52 0-1.04.2-1.43.59L10.3 9.45l-7.72 7.72c-.78.78-.78 2.05 0 2.83L4 21.41c.39.39.9.59 1.41.59.51 0 1.02-.2 1.41-.59l7.78-7.78 2.81-2.81c.8-.78.8-2.07 0-2.86zM5.41 20L4 18.59l7.72-7.72 1.47 1.35L5.41 20z\"/>\n",
              "  </svg>\n",
              "      </button>\n",
              "      \n",
              "  <style>\n",
              "    .colab-df-container {\n",
              "      display:flex;\n",
              "      flex-wrap:wrap;\n",
              "      gap: 12px;\n",
              "    }\n",
              "\n",
              "    .colab-df-convert {\n",
              "      background-color: #E8F0FE;\n",
              "      border: none;\n",
              "      border-radius: 50%;\n",
              "      cursor: pointer;\n",
              "      display: none;\n",
              "      fill: #1967D2;\n",
              "      height: 32px;\n",
              "      padding: 0 0 0 0;\n",
              "      width: 32px;\n",
              "    }\n",
              "\n",
              "    .colab-df-convert:hover {\n",
              "      background-color: #E2EBFA;\n",
              "      box-shadow: 0px 1px 2px rgba(60, 64, 67, 0.3), 0px 1px 3px 1px rgba(60, 64, 67, 0.15);\n",
              "      fill: #174EA6;\n",
              "    }\n",
              "\n",
              "    [theme=dark] .colab-df-convert {\n",
              "      background-color: #3B4455;\n",
              "      fill: #D2E3FC;\n",
              "    }\n",
              "\n",
              "    [theme=dark] .colab-df-convert:hover {\n",
              "      background-color: #434B5C;\n",
              "      box-shadow: 0px 1px 3px 1px rgba(0, 0, 0, 0.15);\n",
              "      filter: drop-shadow(0px 1px 2px rgba(0, 0, 0, 0.3));\n",
              "      fill: #FFFFFF;\n",
              "    }\n",
              "  </style>\n",
              "\n",
              "      <script>\n",
              "        const buttonEl =\n",
              "          document.querySelector('#df-083c4a5e-4be3-43c0-a908-fed64d7a5e92 button.colab-df-convert');\n",
              "        buttonEl.style.display =\n",
              "          google.colab.kernel.accessAllowed ? 'block' : 'none';\n",
              "\n",
              "        async function convertToInteractive(key) {\n",
              "          const element = document.querySelector('#df-083c4a5e-4be3-43c0-a908-fed64d7a5e92');\n",
              "          const dataTable =\n",
              "            await google.colab.kernel.invokeFunction('convertToInteractive',\n",
              "                                                     [key], {});\n",
              "          if (!dataTable) return;\n",
              "\n",
              "          const docLinkHtml = 'Like what you see? Visit the ' +\n",
              "            '<a target=\"_blank\" href=https://colab.research.google.com/notebooks/data_table.ipynb>data table notebook</a>'\n",
              "            + ' to learn more about interactive tables.';\n",
              "          element.innerHTML = '';\n",
              "          dataTable['output_type'] = 'display_data';\n",
              "          await google.colab.output.renderOutput(dataTable, element);\n",
              "          const docLink = document.createElement('div');\n",
              "          docLink.innerHTML = docLinkHtml;\n",
              "          element.appendChild(docLink);\n",
              "        }\n",
              "      </script>\n",
              "    </div>\n",
              "  </div>\n",
              "  "
            ],
            "text/plain": [
              "                                                    item  ...  set\n",
              "1      0007c0a4-31fe-4a8c-b23f-ee79528c96cb_970b7762-...  ...  val\n",
              "18     032ed98d-94e2-4c4c-9d1e-b775d2bf0610_7e3988c4-...  ...  val\n",
              "33     0806d39a-48fb-4d78-9761-178a1b235636_642b6845-...  ...  val\n",
              "43     093cbda0-b9c4-445e-b6d3-56c423811f46_2e06bb9c-...  ...  val\n",
              "60     0e47ce9f-8af5-4f28-8016-4228189e1a3a_44573a91-...  ...  val\n",
              "...                                                  ...  ...  ...\n",
              "42141                          tiziano_06_1560s_09magdal  ...  val\n",
              "42224                                    vaccar_martyrd2  ...  val\n",
              "42325                                     viola_magdalen  ...  val\n",
              "42337                           vivarini_alvise_mary_mag  ...  val\n",
              "42412                    weyden_rogier_18fracop_1magdale  ...  val\n",
              "\n",
              "[4156 rows x 21 columns]"
            ]
          },
          "metadata": {},
          "execution_count": 7
        }
      ],
      "source": [
        "test_set"
      ]
    },
    {
      "cell_type": "code",
      "execution_count": 5,
      "metadata": {
        "id": "aRojEUOH4Arl"
      },
      "outputs": [],
      "source": [
        "import os\n",
        "import cv2\n",
        "import torch\n",
        "from PIL import Image\n",
        "class ArtDLDataset(Dataset):\n",
        "  def __init__(self, data_dir = None, transform = None, labels_path = None, set_type = 'train'):\n",
        "    self.data_dir = data_dir\n",
        "    self.transform = transform\n",
        "    self.labels_path = labels_path\n",
        "    labels_df = pd.read_csv(self.labels_path)\n",
        "    self.labels_df = labels_df[labels_df['set'] == set_type]\n",
        "    self.img_names = list(self.labels_df['item'])\n",
        "\n",
        "  def __getitem__(self, idx):\n",
        "    filename = self.img_names[idx]\n",
        "    #print(filename)\n",
        "    image = Image.open(self.data_dir + \"/\" + filename + \".jpg\")\n",
        "    if(self.transform!=None):\n",
        "      image = self.transform(image)\n",
        "    \n",
        "\n",
        "    image_label = self.labels_df[self.labels_df['item'] == filename].values.squeeze()[2:20].argmax()\n",
        "    #print(image_label)\n",
        "    \n",
        "    return (image, image_label)\n",
        "\n",
        "  def __len__(self):\n",
        "    return len(self.img_names)"
      ]
    },
    {
      "cell_type": "code",
      "execution_count": 6,
      "metadata": {
        "id": "whEw-Lb3AoAW"
      },
      "outputs": [],
      "source": [
        "import torchvision.transforms as transforms\n",
        "class SquarePad:\n",
        "\tdef __call__(self, image):\n",
        "\t\tw, h = image.size\n",
        "\t\tmax_wh = np.max([w, h])\n",
        "\t\thp = int((max_wh - w) / 2)\n",
        "\t\tvp = int((max_wh - h) / 2)\n",
        "\t\tpadding = (hp, vp, hp, vp)\n",
        "\t\treturn FT.pad(image, padding, 0, 'constant')\n",
        "\n",
        "# now use it as the replacement of transforms.Pad class\n",
        "transform=transforms.Compose([\n",
        "    SquarePad(),\n",
        "    transforms.Resize((224,224)),\n",
        "    transforms.CenterCrop((224,224)),\n",
        "    transforms.ToTensor(),\n",
        "    transforms.Normalize((0.5, 0.5, 0.5), (0.5, 0.5, 0.5)),\n",
        "    transforms.RandomHorizontalFlip(p=0.5)\n",
        "])\n",
        "\n",
        "\n",
        "val_transform = transforms.Compose([\n",
        "\t  SquarePad(),\n",
        "\t\ttransforms.Resize((224,224)),\n",
        "\t  transforms.CenterCrop((224,224)),\n",
        "\t\ttransforms.ToTensor()\n",
        "])"
      ]
    },
    {
      "cell_type": "code",
      "execution_count": 7,
      "metadata": {
        "id": "4fmlU6LnDhOO"
      },
      "outputs": [],
      "source": [
        "train_dataset = ArtDLDataset(\n",
        "    data_dir = '/content/DEVKitArt/JPEGImages',\n",
        "    transform = transform,\n",
        "    labels_path = '/content/DEVKitArt/info.csv',\n",
        "    set_type = 'train'\n",
        ")"
      ]
    },
    {
      "cell_type": "code",
      "execution_count": 8,
      "metadata": {
        "id": "Y0WBTJ2WBJ14"
      },
      "outputs": [],
      "source": [
        "test_dataset = ArtDLDataset(\n",
        "    data_dir = '/content/DEVKitArt/JPEGImages',\n",
        "    transform = val_transform,\n",
        "    labels_path = '/content/DEVKitArt/info.csv',\n",
        "    set_type = 'test'\n",
        ")"
      ]
    },
    {
      "cell_type": "code",
      "execution_count": 9,
      "metadata": {
        "id": "Idkwa-NPBUhF"
      },
      "outputs": [],
      "source": [
        "val_dataset = ArtDLDataset(\n",
        "    data_dir = '/content/DEVKitArt/JPEGImages',\n",
        "    transform = val_transform,\n",
        "    labels_path = '/content/DEVKitArt/info.csv',\n",
        "    set_type = 'val'\n",
        ")"
      ]
    },
    {
      "cell_type": "code",
      "execution_count": null,
      "metadata": {
        "colab": {
          "base_uri": "https://localhost:8080/"
        },
        "id": "aMo1IeeewFG4",
        "outputId": "c47f476c-1601-4837-e3fc-e3eff3ace34e"
      },
      "outputs": [
        {
          "output_type": "execute_result",
          "data": {
            "text/plain": [
              "torch.Size([3, 224, 224])"
            ]
          },
          "metadata": {},
          "execution_count": 13
        }
      ],
      "source": [
        "test_dataset[1][0].shape"
      ]
    },
    {
      "cell_type": "code",
      "execution_count": 10,
      "metadata": {
        "colab": {
          "base_uri": "https://localhost:8080/",
          "height": 286
        },
        "id": "TNnCxFG_E8u1",
        "outputId": "7b94e618-af86-4a0f-9b2a-767ee9e283c7"
      },
      "outputs": [
        {
          "output_type": "execute_result",
          "data": {
            "text/plain": [
              "<matplotlib.image.AxesImage at 0x7f516d541f50>"
            ]
          },
          "metadata": {},
          "execution_count": 10
        },
        {
          "output_type": "display_data",
          "data": {
            "image/png": "[encoded data removed]",
            "text/plain": [
              "<Figure size 432x288 with 1 Axes>"
            ]
          },
          "metadata": {
            "needs_background": "light"
          }
        }
      ],
      "source": [
        "import matplotlib.pyplot as plt\n",
        "plt.imshow(test_dataset[1][0].permute(1,2,0).numpy())"
      ]
    },
    {
      "cell_type": "code",
      "source": [
        "from collections import Counter"
      ],
      "metadata": {
        "id": "Pp0P0pLV7lAc"
      },
      "execution_count": 11,
      "outputs": []
    },
    {
      "cell_type": "code",
      "source": [
        "import numpy as np \n",
        "\n",
        "y_train_indices = range(len(train_dataset))\n",
        "\n",
        "y_train = [train_dataset[i][1] for i in y_train_indices]\n",
        "\n",
        "class_sample_count = np.array(\n",
        "    [len(np.where(y_train == t)[0]) for t in np.unique(y_train)])"
      ],
      "metadata": {
        "id": "T3XNX3ua93sY"
      },
      "execution_count": null,
      "outputs": []
    },
    {
      "cell_type": "code",
      "source": [
        "weight = 1. / class_sample_count\n",
        "samples_weight = np.array([weight[t] for t in y_train])\n",
        "samples_weight = torch.from_numpy(samples_weight)"
      ],
      "metadata": {
        "id": "US5SnQ-5CUo8"
      },
      "execution_count": null,
      "outputs": []
    },
    {
      "cell_type": "code",
      "source": [
        "sampler = WeightedRandomSampler(samples_weight.type('torch.DoubleTensor'), len(samples_weight))"
      ],
      "metadata": {
        "id": "BaNIbaCyCfEa"
      },
      "execution_count": null,
      "outputs": []
    },
    {
      "cell_type": "code",
      "execution_count": 13,
      "metadata": {
        "id": "8JvyenkDDgME"
      },
      "outputs": [],
      "source": [
        "train_loader = DataLoader(dataset = train_dataset, shuffle=True, batch_size = 50)\n",
        "test_loader = DataLoader(dataset = test_dataset, batch_size = 10)\n",
        "val_loader = DataLoader(dataset = val_dataset, batch_size = 10)"
      ]
    },
    {
      "cell_type": "code",
      "execution_count": 14,
      "metadata": {
        "id": "4MNzvaj3DwV7"
      },
      "outputs": [],
      "source": [
        "import torchvision.models as models\n",
        "import torch.nn as nn"
      ]
    },
    {
      "cell_type": "code",
      "execution_count": null,
      "metadata": {
        "id": "DnLIC5b0IK5f"
      },
      "outputs": [],
      "source": [
        "newmodel = torch.nn.Sequential(*(list(model.children())[:-1]))"
      ]
    },
    {
      "cell_type": "code",
      "source": [
        ""
      ],
      "metadata": {
        "id": "ZruTS-A27jDr"
      },
      "execution_count": null,
      "outputs": []
    },
    {
      "cell_type": "code",
      "execution_count": null,
      "metadata": {
        "id": "e1h2sUGP0wKR"
      },
      "outputs": [],
      "source": [
        "image, label = next(iter(train_loader))"
      ]
    },
    {
      "cell_type": "code",
      "execution_count": 15,
      "metadata": {
        "id": "4ole7vH8F8xq"
      },
      "outputs": [],
      "source": [
        "class ArtDLClassifier(nn.Module):\n",
        "  def __init__(self, num_classes):\n",
        "    super(ArtDLClassifier, self).__init__()\n",
        "    self.resnet = models.resnet50(pretrained=True)\n",
        "    self.net = torch.nn.Sequential(*(list(self.resnet.children())[:-1]))\n",
        "    self.fc_conv = nn.Conv2d(in_channels = 2048, out_channels = num_classes, kernel_size=1)\n",
        "    self.tr_params = nn.ModuleList([self.net[4][2:], self.net[5], self.net[6], self.net[7], self.fc_conv])\n",
        "  def forward(self, image):\n",
        "    out = self.net(image)\n",
        "    out = self.fc_conv(out)\n",
        "    return out\n",
        "\n",
        "  def trainable_params(self):\n",
        "    return (list(self.tr_params.parameters()))"
      ]
    },
    {
      "cell_type": "code",
      "execution_count": null,
      "metadata": {
        "colab": {
          "base_uri": "https://localhost:8080/"
        },
        "id": "ymIlCHmTL4HC",
        "outputId": "000c07a1-e2fa-42a0-ccba-547e3c56d0fa"
      },
      "outputs": [
        {
          "name": "stderr",
          "output_type": "stream",
          "text": [
            "/usr/local/lib/python3.7/dist-packages/ipykernel_launcher.py:2: UserWarning: Implicit dimension choice for softmax has been deprecated. Change the call to include dim=X as an argument.\n",
            "  \n"
          ]
        }
      ],
      "source": [
        "out = clf(image.to(device))\n",
        "out = F.softmax(out)"
      ]
    },
    {
      "cell_type": "code",
      "execution_count": null,
      "metadata": {
        "colab": {
          "base_uri": "https://localhost:8080/"
        },
        "id": "9UYLQxmbXacP",
        "outputId": "6e39da36-f034-4b66-b5d7-9d78ed2252a9"
      },
      "outputs": [
        {
          "data": {
            "text/plain": [
              "torch.Size([50, 19])"
            ]
          },
          "execution_count": 26,
          "metadata": {},
          "output_type": "execute_result"
        }
      ],
      "source": [
        "out.squeeze().shape"
      ]
    },
    {
      "cell_type": "code",
      "execution_count": null,
      "metadata": {
        "id": "kMQUwzzYUwCN"
      },
      "outputs": [],
      "source": [
        "clf.zero_grad()"
      ]
    },
    {
      "cell_type": "code",
      "execution_count": null,
      "metadata": {
        "colab": {
          "base_uri": "https://localhost:8080/"
        },
        "id": "t8sC2RK1RbMS",
        "outputId": "a6797636-64c5-4000-9eb1-27162afa659a"
      },
      "outputs": [
        {
          "data": {
            "text/plain": [
              "torch.Size([19, 1, 1])"
            ]
          },
          "execution_count": 23,
          "metadata": {},
          "output_type": "execute_result"
        }
      ],
      "source": [
        "ma.shape"
      ]
    },
    {
      "cell_type": "code",
      "execution_count": null,
      "metadata": {
        "id": "4RhEubnOL--J"
      },
      "outputs": [],
      "source": [
        "ma, argm = out.max(dim = 0)"
      ]
    },
    {
      "cell_type": "code",
      "execution_count": null,
      "metadata": {
        "id": "Px3-6xJZORG0"
      },
      "outputs": [],
      "source": [
        "ma = ma.cpu()"
      ]
    },
    {
      "cell_type": "code",
      "execution_count": null,
      "metadata": {
        "id": "D7pVQ3ZHTpNT"
      },
      "outputs": [],
      "source": [
        "argm = argm.cpu()"
      ]
    },
    {
      "cell_type": "code",
      "execution_count": 17,
      "metadata": {
        "id": "xtpEabLWjq_y"
      },
      "outputs": [],
      "source": [
        "import torch.optim as optim"
      ]
    },
    {
      "cell_type": "code",
      "execution_count": 18,
      "metadata": {
        "id": "G_gw_zo4AEcA"
      },
      "outputs": [],
      "source": [
        "device = 'cuda' if torch.cuda.is_available() else \"cpu\""
      ]
    },
    {
      "cell_type": "code",
      "execution_count": 19,
      "metadata": {
        "id": "1cJWrRoocF4_",
        "colab": {
          "base_uri": "https://localhost:8080/",
          "height": 86,
          "referenced_widgets": [
            "3240b083590e42b8b2c513a8ad74a1ee",
            "4a7b1ff1e0d44d27be13e512fb294751",
            "c86ff0f768c14fb69fac0f0ffa0b21e4",
            "82645cc7d25d46b99b3e11f79e91a723",
            "ad49a467978d4ad9b4e3714e82bbca88",
            "ba57bc823ead4d4ca787ba18181576a1",
            "44cb5d2e65e646f0b6349f349d489d7d",
            "605abaf17b2b4ef68af4ca66bae98d30",
            "14bb4fc36afd448ea1e581ad9bddc86e",
            "2213650f575b46b39806d1b719ffb9ed",
            "66501192a1764bba82a8637607b1ab95"
          ]
        },
        "outputId": "33cdff90-c687-4271-abb0-490d90fe1033"
      },
      "outputs": [
        {
          "output_type": "stream",
          "name": "stderr",
          "text": [
            "Downloading: \"https://download.pytorch.org/models/resnet50-0676ba61.pth\" to /root/.cache/torch/hub/checkpoints/resnet50-0676ba61.pth\n"
          ]
        },
        {
          "output_type": "display_data",
          "data": {
            "application/vnd.jupyter.widget-view+json": {
              "model_id": "3240b083590e42b8b2c513a8ad74a1ee",
              "version_minor": 0,
              "version_major": 2
            },
            "text/plain": [
              "  0%|          | 0.00/97.8M [00:00<?, ?B/s]"
            ]
          },
          "metadata": {}
        }
      ],
      "source": [
        "clf = ArtDLClassifier(num_classes = 19).to(device)\n",
        "optimizer = optim.SGD(clf.trainable_params(), lr = 0.01, momentum = 0.9)\n",
        "criterion = nn.CrossEntropyLoss()"
      ]
    },
    {
      "cell_type": "code",
      "execution_count": 20,
      "metadata": {
        "id": "RvINeWeYcWbl"
      },
      "outputs": [],
      "source": [
        "def train(epochs, model, train_loader, val_loader, optimizer, device, criterion):\n",
        "  for epoch in range(epochs):\n",
        "    model.train()\n",
        "    train_loss = 0\n",
        "    val_loss = 0\n",
        "    for idx, (image, label) in enumerate(train_loader):\n",
        "      image = image.to(device)\n",
        "      #print(image.shape)\n",
        "      label = label.to(device)\n",
        "      optimizer.zero_grad()\n",
        "      outputs = model(image).squeeze()\n",
        "      loss = criterion(outputs, label)\n",
        "      train_loss += loss.item()\n",
        "      loss.backward()\n",
        "      optimizer.step()\n",
        "    \n",
        "    with torch.no_grad():\n",
        "      model.eval()\n",
        "      val_score = 0\n",
        "      for idx, (image, label) in enumerate(val_loader):\n",
        "        image = image.to(device)\n",
        "        label = label.to(device)\n",
        "        outputs = model(image).squeeze()\n",
        "        pred = outputs.argmax(dim = 1, keepdim = True)\n",
        "        val_score += pred.eq(label.view_as(pred)).sum().item()\n",
        "        loss = criterion(outputs, label)\n",
        "        val_loss += loss.item()\n",
        "    \n",
        "    print(\"=================================================\")\n",
        "    print(\"Epoch: {}\".format(epoch+1))\n",
        "    print(\"Validation Loss: {}\".format(val_loss/len(val_loader)))\n",
        "    print(\"Training Loss: {}\".format(train_loss/len(train_loader)))\n",
        "    print(val_score)\n",
        "    print(\"Validation Accuracy: {}\".format((val_score)/len(val_loader)*10))"
      ]
    },
    {
      "cell_type": "code",
      "execution_count": null,
      "metadata": {
        "colab": {
          "base_uri": "https://localhost:8080/"
        },
        "id": "T0cDtfFmjno6",
        "outputId": "56ddd683-0d7c-46be-c07f-0cc05fe48ac6"
      },
      "outputs": [
        {
          "output_type": "stream",
          "name": "stdout",
          "text": [
            "=================================================\n",
            "Epoch: 1\n",
            "Validation Loss: 1.4981446406947305\n",
            "Training Loss: 1.5551484658529884\n",
            "2495\n",
            "Validation Accuracy: 59.97596153846154\n",
            "=================================================\n",
            "Epoch: 2\n",
            "Validation Loss: 1.4503457255733128\n",
            "Training Loss: 1.300830365185849\n",
            "2553\n",
            "Validation Accuracy: 61.37019230769231\n",
            "=================================================\n",
            "Epoch: 3\n",
            "Validation Loss: 1.4564640136578908\n",
            "Training Loss: 1.1625126084389046\n",
            "2588\n",
            "Validation Accuracy: 62.21153846153846\n",
            "=================================================\n",
            "Epoch: 4\n",
            "Validation Loss: 1.4298449412274818\n",
            "Training Loss: 1.0537854972028593\n",
            "2525\n",
            "Validation Accuracy: 60.69711538461539\n",
            "=================================================\n",
            "Epoch: 5\n",
            "Validation Loss: 1.3548670298634813\n",
            "Training Loss: 0.9532510594230647\n",
            "2658\n",
            "Validation Accuracy: 63.89423076923077\n",
            "=================================================\n",
            "Epoch: 6\n",
            "Validation Loss: 1.4851956412626\n",
            "Training Loss: 0.8596800345687838\n",
            "2559\n",
            "Validation Accuracy: 61.51442307692307\n",
            "=================================================\n",
            "Epoch: 7\n",
            "Validation Loss: 1.5237395154097333\n",
            "Training Loss: 0.766993318058071\n",
            "2504\n",
            "Validation Accuracy: 60.19230769230769\n",
            "=================================================\n",
            "Epoch: 8\n",
            "Validation Loss: 1.923497857651315\n",
            "Training Loss: 0.6773440230920998\n",
            "2271\n",
            "Validation Accuracy: 54.591346153846146\n"
          ]
        }
      ],
      "source": [
        "train(10, clf, train_loader, val_loader, optimizer, device, criterion)"
      ]
    },
    {
      "cell_type": "code",
      "source": [
        ""
      ],
      "metadata": {
        "id": "WLGEpE0hkvhr"
      },
      "execution_count": null,
      "outputs": []
    }
  ],
  "metadata": {
    "accelerator": "GPU",
    "colab": {
      "collapsed_sections": [],
      "name": "ArtDL.ipynb",
      "provenance": []
    },
    "kernelspec": {
      "display_name": "Python 3",
      "name": "python3"
    },
    "language_info": {
      "name": "python"
    },
    "widgets": {
      "application/vnd.jupyter.widget-state+json": {
        "3240b083590e42b8b2c513a8ad74a1ee": {
          "model_module": "@jupyter-widgets/controls",
          "model_name": "HBoxModel",
          "model_module_version": "1.5.0",
          "state": {
            "_view_name": "HBoxView",
            "_dom_classes": [],
            "_model_name": "HBoxModel",
            "_view_module": "@jupyter-widgets/controls",
            "_model_module_version": "1.5.0",
            "_view_count": null,
            "_view_module_version": "1.5.0",
            "box_style": "",
            "layout": "IPY_MODEL_4a7b1ff1e0d44d27be13e512fb294751",
            "_model_module": "@jupyter-widgets/controls",
            "children": [
              "IPY_MODEL_c86ff0f768c14fb69fac0f0ffa0b21e4",
              "IPY_MODEL_82645cc7d25d46b99b3e11f79e91a723",
              "IPY_MODEL_ad49a467978d4ad9b4e3714e82bbca88"
            ]
          }
        },
        "4a7b1ff1e0d44d27be13e512fb294751": {
          "model_module": "@jupyter-widgets/base",
          "model_name": "LayoutModel",
          "model_module_version": "1.2.0",
          "state": {
            "_view_name": "LayoutView",
            "grid_template_rows": null,
            "right": null,
            "justify_content": null,
            "_view_module": "@jupyter-widgets/base",
            "overflow": null,
            "_model_module_version": "1.2.0",
            "_view_count": null,
            "flex_flow": null,
            "width": null,
            "min_width": null,
            "border": null,
            "align_items": null,
            "bottom": null,
            "_model_module": "@jupyter-widgets/base",
            "top": null,
            "grid_column": null,
            "overflow_y": null,
            "overflow_x": null,
            "grid_auto_flow": null,
            "grid_area": null,
            "grid_template_columns": null,
            "flex": null,
            "_model_name": "LayoutModel",
            "justify_items": null,
            "grid_row": null,
            "max_height": null,
            "align_content": null,
            "visibility": null,
            "align_self": null,
            "height": null,
            "min_height": null,
            "padding": null,
            "grid_auto_rows": null,
            "grid_gap": null,
            "max_width": null,
            "order": null,
            "_view_module_version": "1.2.0",
            "grid_template_areas": null,
            "object_position": null,
            "object_fit": null,
            "grid_auto_columns": null,
            "margin": null,
            "display": null,
            "left": null
          }
        },
        "c86ff0f768c14fb69fac0f0ffa0b21e4": {
          "model_module": "@jupyter-widgets/controls",
          "model_name": "HTMLModel",
          "model_module_version": "1.5.0",
          "state": {
            "_view_name": "HTMLView",
            "style": "IPY_MODEL_ba57bc823ead4d4ca787ba18181576a1",
            "_dom_classes": [],
            "description": "",
            "_model_name": "HTMLModel",
            "placeholder": "​",
            "_view_module": "@jupyter-widgets/controls",
            "_model_module_version": "1.5.0",
            "value": "100%",
            "_view_count": null,
            "_view_module_version": "1.5.0",
            "description_tooltip": null,
            "_model_module": "@jupyter-widgets/controls",
            "layout": "IPY_MODEL_44cb5d2e65e646f0b6349f349d489d7d"
          }
        },
        "82645cc7d25d46b99b3e11f79e91a723": {
          "model_module": "@jupyter-widgets/controls",
          "model_name": "FloatProgressModel",
          "model_module_version": "1.5.0",
          "state": {
            "_view_name": "ProgressView",
            "style": "IPY_MODEL_605abaf17b2b4ef68af4ca66bae98d30",
            "_dom_classes": [],
            "description": "",
            "_model_name": "FloatProgressModel",
            "bar_style": "success",
            "max": 102530333,
            "_view_module": "@jupyter-widgets/controls",
            "_model_module_version": "1.5.0",
            "value": 102530333,
            "_view_count": null,
            "_view_module_version": "1.5.0",
            "orientation": "horizontal",
            "min": 0,
            "description_tooltip": null,
            "_model_module": "@jupyter-widgets/controls",
            "layout": "IPY_MODEL_14bb4fc36afd448ea1e581ad9bddc86e"
          }
        },
        "ad49a467978d4ad9b4e3714e82bbca88": {
          "model_module": "@jupyter-widgets/controls",
          "model_name": "HTMLModel",
          "model_module_version": "1.5.0",
          "state": {
            "_view_name": "HTMLView",
            "style": "IPY_MODEL_2213650f575b46b39806d1b719ffb9ed",
            "_dom_classes": [],
            "description": "",
            "_model_name": "HTMLModel",
            "placeholder": "​",
            "_view_module": "@jupyter-widgets/controls",
            "_model_module_version": "1.5.0",
            "value": " 97.8M/97.8M [00:01&lt;00:00, 87.7MB/s]",
            "_view_count": null,
            "_view_module_version": "1.5.0",
            "description_tooltip": null,
            "_model_module": "@jupyter-widgets/controls",
            "layout": "IPY_MODEL_66501192a1764bba82a8637607b1ab95"
          }
        },
        "ba57bc823ead4d4ca787ba18181576a1": {
          "model_module": "@jupyter-widgets/controls",
          "model_name": "DescriptionStyleModel",
          "model_module_version": "1.5.0",
          "state": {
            "_view_name": "StyleView",
            "_model_name": "DescriptionStyleModel",
            "description_width": "",
            "_view_module": "@jupyter-widgets/base",
            "_model_module_version": "1.5.0",
            "_view_count": null,
            "_view_module_version": "1.2.0",
            "_model_module": "@jupyter-widgets/controls"
          }
        },
        "44cb5d2e65e646f0b6349f349d489d7d": {
          "model_module": "@jupyter-widgets/base",
          "model_name": "LayoutModel",
          "model_module_version": "1.2.0",
          "state": {
            "_view_name": "LayoutView",
            "grid_template_rows": null,
            "right": null,
            "justify_content": null,
            "_view_module": "@jupyter-widgets/base",
            "overflow": null,
            "_model_module_version": "1.2.0",
            "_view_count": null,
            "flex_flow": null,
            "width": null,
            "min_width": null,
            "border": null,
            "align_items": null,
            "bottom": null,
            "_model_module": "@jupyter-widgets/base",
            "top": null,
            "grid_column": null,
            "overflow_y": null,
            "overflow_x": null,
            "grid_auto_flow": null,
            "grid_area": null,
            "grid_template_columns": null,
            "flex": null,
            "_model_name": "LayoutModel",
            "justify_items": null,
            "grid_row": null,
            "max_height": null,
            "align_content": null,
            "visibility": null,
            "align_self": null,
            "height": null,
            "min_height": null,
            "padding": null,
            "grid_auto_rows": null,
            "grid_gap": null,
            "max_width": null,
            "order": null,
            "_view_module_version": "1.2.0",
            "grid_template_areas": null,
            "object_position": null,
            "object_fit": null,
            "grid_auto_columns": null,
            "margin": null,
            "display": null,
            "left": null
          }
        },
        "605abaf17b2b4ef68af4ca66bae98d30": {
          "model_module": "@jupyter-widgets/controls",
          "model_name": "ProgressStyleModel",
          "model_module_version": "1.5.0",
          "state": {
            "_view_name": "StyleView",
            "_model_name": "ProgressStyleModel",
            "description_width": "",
            "_view_module": "@jupyter-widgets/base",
            "_model_module_version": "1.5.0",
            "_view_count": null,
            "_view_module_version": "1.2.0",
            "bar_color": null,
            "_model_module": "@jupyter-widgets/controls"
          }
        },
        "14bb4fc36afd448ea1e581ad9bddc86e": {
          "model_module": "@jupyter-widgets/base",
          "model_name": "LayoutModel",
          "model_module_version": "1.2.0",
          "state": {
            "_view_name": "LayoutView",
            "grid_template_rows": null,
            "right": null,
            "justify_content": null,
            "_view_module": "@jupyter-widgets/base",
            "overflow": null,
            "_model_module_version": "1.2.0",
            "_view_count": null,
            "flex_flow": null,
            "width": null,
            "min_width": null,
            "border": null,
            "align_items": null,
            "bottom": null,
            "_model_module": "@jupyter-widgets/base",
            "top": null,
            "grid_column": null,
            "overflow_y": null,
            "overflow_x": null,
            "grid_auto_flow": null,
            "grid_area": null,
            "grid_template_columns": null,
            "flex": null,
            "_model_name": "LayoutModel",
            "justify_items": null,
            "grid_row": null,
            "max_height": null,
            "align_content": null,
            "visibility": null,
            "align_self": null,
            "height": null,
            "min_height": null,
            "padding": null,
            "grid_auto_rows": null,
            "grid_gap": null,
            "max_width": null,
            "order": null,
            "_view_module_version": "1.2.0",
            "grid_template_areas": null,
            "object_position": null,
            "object_fit": null,
            "grid_auto_columns": null,
            "margin": null,
            "display": null,
            "left": null
          }
        },
        "2213650f575b46b39806d1b719ffb9ed": {
          "model_module": "@jupyter-widgets/controls",
          "model_name": "DescriptionStyleModel",
          "model_module_version": "1.5.0",
          "state": {
            "_view_name": "StyleView",
            "_model_name": "DescriptionStyleModel",
            "description_width": "",
            "_view_module": "@jupyter-widgets/base",
            "_model_module_version": "1.5.0",
            "_view_count": null,
            "_view_module_version": "1.2.0",
            "_model_module": "@jupyter-widgets/controls"
          }
        },
        "66501192a1764bba82a8637607b1ab95": {
          "model_module": "@jupyter-widgets/base",
          "model_name": "LayoutModel",
          "model_module_version": "1.2.0",
          "state": {
            "_view_name": "LayoutView",
            "grid_template_rows": null,
            "right": null,
            "justify_content": null,
            "_view_module": "@jupyter-widgets/base",
            "overflow": null,
            "_model_module_version": "1.2.0",
            "_view_count": null,
            "flex_flow": null,
            "width": null,
            "min_width": null,
            "border": null,
            "align_items": null,
            "bottom": null,
            "_model_module": "@jupyter-widgets/base",
            "top": null,
            "grid_column": null,
            "overflow_y": null,
            "overflow_x": null,
            "grid_auto_flow": null,
            "grid_area": null,
            "grid_template_columns": null,
            "flex": null,
            "_model_name": "LayoutModel",
            "justify_items": null,
            "grid_row": null,
            "max_height": null,
            "align_content": null,
            "visibility": null,
            "align_self": null,
            "height": null,
            "min_height": null,
            "padding": null,
            "grid_auto_rows": null,
            "grid_gap": null,
            "max_width": null,
            "order": null,
            "_view_module_version": "1.2.0",
            "grid_template_areas": null,
            "object_position": null,
            "object_fit": null,
            "grid_auto_columns": null,
            "margin": null,
            "display": null,
            "left": null
          }
        }
      }
    }
  },
  "nbformat": 4,
  "nbformat_minor": 0
}